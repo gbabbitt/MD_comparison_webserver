{
 "cells": [
  {
   "cell_type": "code",
   "execution_count": 1,
   "id": "744aa1d3",
   "metadata": {},
   "outputs": [],
   "source": [
    "#this is a revised version of the code. the functions are run in the bottom using user input,\n",
    "#which will be replaced by client side interaction\n",
    "\n",
    "\n",
    "import pytraj as pt"
   ]
  },
  {
   "cell_type": "code",
   "execution_count": 2,
   "id": "fadfa3dc",
   "metadata": {},
   "outputs": [],
   "source": [
    "#this function is what gathers the calculations over random timeframes with given number of samples and timesteps\n",
    "import datetime\n",
    "import random\n",
    "\n",
    "def gatherData(traj):\n",
    "    timeSteps = input(\"Enter number of timesteps: \")\n",
    "    timeSteps = int(timeSteps)\n",
    "    if timeSteps>len(traj):\n",
    "        print(\"Error: timestep selection is greater than timesteps in the trajectory file\")\n",
    "        return\n",
    "    sampleAmount = input(\"Enter sample amount:\")\n",
    "    sampleAmount = int(sampleAmount)\n",
    "    \n",
    "    startTime = datetime.datetime.now()\n",
    "    print(\"beginning proccess with \",timeSteps,\" timesteps, and \", sampleAmount, \" samples, at \", startTime)\n",
    "    \n",
    "    samples=[]\n",
    "    for i in range(sampleAmount):\n",
    "        start = random.randint(0, (len(traj)-1)-timeSteps)\n",
    "        end = start+timeSteps\n",
    "        \n",
    "        trajSample = traj[start:end]\n",
    "        fluctSample = pt.atomicfluct(trajSample)\n",
    "        corrSample = [pt.atomiccorr(trajSample)]\n",
    "        \n",
    "        dataArray = [trajSample, fluctSample, corrSample]\n",
    "        samples.append(dataArray)\n",
    "    \n",
    "    print(\"Finished after: \", datetime.datetime.now()-startTime)\n",
    "    return samples"
   ]
  },
  {
   "cell_type": "code",
   "execution_count": 55,
   "id": "21ade003",
   "metadata": {},
   "outputs": [],
   "source": [
    "import os\n",
    "import IPython as py\n",
    "import numpy as np\n",
    "import math\n",
    "import matplotlib.pyplot as plt"
   ]
  },
  {
   "cell_type": "code",
   "execution_count": 4,
   "id": "e7eb21ec",
   "metadata": {},
   "outputs": [],
   "source": [
    "#Searches the os for files that have .nc or .prmtop in their name.\n",
    "\n",
    "\n",
    "def searchDir(dirArray):\n",
    "    viableFiles = []\n",
    "    for i in dirArray:\n",
    "        length=len(i)\n",
    "        trajIndex = i.find(\".nc\")\n",
    "        topIndex = i.find(\".prmtop\")\n",
    "        \n",
    "        if length-(trajIndex)==3 or length-(topIndex)==7:\n",
    "            if trajIndex != -1:\n",
    "                viableFiles.append(i)\n",
    "            if topIndex != -1:\n",
    "                viableFiles.append(i)\n",
    "            \n",
    "    return viableFiles\n",
    "\n",
    "def searchForFiles():\n",
    "    path=\"/Users/\"\n",
    "    print(os.listdir(path))\n",
    "    \n",
    "    while True:\n",
    "        py.display.clear_output()\n",
    "        print(\"Path: \", path)\n",
    "        dir = os.listdir(path)\n",
    "        print(\"Directories: \")\n",
    "        for i in dir:\n",
    "            print(\"   \",i)\n",
    "        print(\"useable files: \")\n",
    "        udir=searchDir(dir)\n",
    "        for i in udir:\n",
    "            print(\"   \",i)\n",
    "        \n",
    "        \n",
    "        command = input(\"choose a directory, type 'stop', or type 'choose' \")\n",
    "        \n",
    "        \n",
    "        if command == 'choose':\n",
    "            trajFile = input(\"type the name of the .nc file\")\n",
    "            topFile = input(\"type the name of the .prmtop file\")\n",
    "            \n",
    "            return trajFile, topFile\n",
    "        \n",
    "        if command == 'stop':\n",
    "            break\n",
    "        for i in dir:\n",
    "            if command==i:\n",
    "                path=os.path.join(path, i)\n",
    "            \n",
    "        "
   ]
  },
  {
   "cell_type": "code",
   "execution_count": 5,
   "id": "6a035467",
   "metadata": {},
   "outputs": [],
   "source": [
    "def doEverything():\n",
    "    trajFile, topFile = searchForFiles()\n",
    "    \n",
    "    traj = pt.load(trajFile, topFile)\n",
    "    \n",
    "    data = gatherData(traj)\n",
    "    \n",
    "    return traj"
   ]
  },
  {
   "cell_type": "code",
   "execution_count": 6,
   "id": "a33a48e6",
   "metadata": {},
   "outputs": [],
   "source": [
    "traj = pt.load('heat1.nc', 'TRPcage.prmtop')"
   ]
  },
  {
   "cell_type": "code",
   "execution_count": 8,
   "id": "35c17ab0",
   "metadata": {},
   "outputs": [],
   "source": [
    "xyz = []\n",
    "for i in traj.xyz:\n",
    "    xyz.append(i[0])"
   ]
  },
  {
   "cell_type": "code",
   "execution_count": 13,
   "id": "1d697167",
   "metadata": {},
   "outputs": [
    {
     "data": {
      "application/vnd.jupyter.widget-view+json": {
       "model_id": "d541024c347442bb89af97a4fb4ac126",
       "version_major": 2,
       "version_minor": 0
      },
      "text/plain": []
     },
     "metadata": {},
     "output_type": "display_data"
    }
   ],
   "source": [
    "import nglview as ngl"
   ]
  },
  {
   "cell_type": "code",
   "execution_count": 14,
   "id": "90efe1f5",
   "metadata": {},
   "outputs": [
    {
     "data": {
      "application/vnd.jupyter.widget-view+json": {
       "model_id": "817e40da6af94ec1a807a4c6d499ff2c",
       "version_major": 2,
       "version_minor": 0
      },
      "text/plain": [
       "NGLWidget(max_frame=199)"
      ]
     },
     "metadata": {},
     "output_type": "display_data"
    }
   ],
   "source": [
    "traj.superpose()\n",
    "view = ngl.show_pytraj(traj)\n",
    "view"
   ]
  },
  {
   "cell_type": "code",
   "execution_count": 15,
   "id": "932356e1",
   "metadata": {},
   "outputs": [],
   "source": [
    "fluct = pt.atomicfluct(traj)"
   ]
  },
  {
   "cell_type": "code",
   "execution_count": 22,
   "id": "a24f87da",
   "metadata": {},
   "outputs": [],
   "source": [
    "def customFluct(trajArray):\n",
    "    fluct = 0\n",
    "    \n",
    "    \n",
    "    \n",
    "    refX = 0\n",
    "    refY = 0\n",
    "    refZ = 0\n",
    "    for i in trajArray:\n",
    "        refX+=i[0]\n",
    "        refY+=i[1]\n",
    "        refZ+=i[2]\n",
    "    refX, refY, refZ = refX/len(trajArray), refY/len(trajArray), refZ/len(trajArray)\n",
    "    \n",
    "    sum = 0\n",
    "    for i in trajArray:\n",
    "        difX = i[0]-refX\n",
    "        difY = i[1]-refY\n",
    "        difZ = i[2]-refZ\n",
    "        \n",
    "        difX = pow(difX, 2)\n",
    "        difY = pow(difY, 2)\n",
    "        difZ = pow(difZ, 2)\n",
    "        \n",
    "        partial_sum = difX+difY+difZ\n",
    "        sum+=partial_sum\n",
    "    \n",
    "    fluct = sum/len(trajArray)\n",
    "    fluct = pow(fluct, 1/2)\n",
    "            \n",
    "            \n",
    "        \n",
    "    return fluct"
   ]
  },
  {
   "cell_type": "code",
   "execution_count": 23,
   "id": "8332383e",
   "metadata": {},
   "outputs": [
    {
     "data": {
      "text/plain": [
       "1.2488742742192607"
      ]
     },
     "execution_count": 23,
     "metadata": {},
     "output_type": "execute_result"
    }
   ],
   "source": [
    "customFluct(xyz)"
   ]
  },
  {
   "cell_type": "code",
   "execution_count": 82,
   "id": "892a8e1c",
   "metadata": {},
   "outputs": [],
   "source": [
    "testArray = []\n",
    "for i in range(304):\n",
    "    arr = []\n",
    "    for j in traj.xyz:\n",
    "        arr.append(j[i])\n",
    "    testArray.append(arr)"
   ]
  },
  {
   "cell_type": "code",
   "execution_count": 98,
   "id": "c217bde9",
   "metadata": {},
   "outputs": [
    {
     "data": {
      "text/plain": [
       "(304, 200, 3)"
      ]
     },
     "execution_count": 98,
     "metadata": {},
     "output_type": "execute_result"
    }
   ],
   "source": [
    "np.shape(testArray)"
   ]
  },
  {
   "cell_type": "code",
   "execution_count": 61,
   "id": "2cac4b32",
   "metadata": {},
   "outputs": [
    {
     "data": {
      "image/png": "[encoded data removed]",
      "text/plain": [
       "<Figure size 640x480 with 1 Axes>"
      ]
     },
     "metadata": {},
     "output_type": "display_data"
    }
   ],
   "source": [
    "fig = plt.figure()\n",
    "ax = fig.add_subplot(projection='3d')\n",
    "\n",
    "for i in traj.xyz[0]:\n",
    "    \n",
    "\n",
    "    \n",
    "    ax.scatter(i[0],i[1],i[2], s=25)\n",
    "       \n",
    "plt.show()"
   ]
  },
  {
   "cell_type": "code",
   "execution_count": 29,
   "id": "e679c095",
   "metadata": {},
   "outputs": [],
   "source": [
    "##replicating the atomic corr function!!!"
   ]
  },
  {
   "cell_type": "code",
   "execution_count": 134,
   "id": "afa2e8e5",
   "metadata": {},
   "outputs": [
    {
     "data": {
      "text/plain": [
       "(304, 304)"
      ]
     },
     "execution_count": 134,
     "metadata": {},
     "output_type": "execute_result"
    }
   ],
   "source": [
    "corr = pt.atomiccorr(traj,byres=False)\n",
    "np.shape(corr)"
   ]
  },
  {
   "cell_type": "code",
   "execution_count": 12,
   "id": "dbc5f76e",
   "metadata": {},
   "outputs": [],
   "source": [
    "def sigmoid(x):\n",
    "    return 1/(1+np.exp(-x))"
   ]
  },
  {
   "cell_type": "code",
   "execution_count": 147,
   "id": "269268a4",
   "metadata": {
    "scrolled": true
   },
   "outputs": [],
   "source": [
    "def customCorr(fullTrajArray, a, b):\n",
    "    a_cord=[]\n",
    "    b_cord=[]\n",
    "    for i in range(len(fullTrajArray)):\n",
    "        a_cord.append(fullTrajArray[i][a])\n",
    "        b_cord.append(fullTrajArray[i][b])\n",
    "    #print(np.shape(a_cord))\n",
    "    \n",
    "    a_dif = []\n",
    "    for i in range(len(a_cord)):\n",
    "        if i!=0:\n",
    "            #print(a_cord[i][0],a_cord[i][0]-a_cord[i-1][0])\n",
    "            a_dif.append([a_cord[i][0]-a_cord[i-1][0],a_cord[i][1]-a_cord[i-1][1],a_cord[i][2]-a_cord[i-1][2]])\n",
    "    #print(np.shape(a_dif))\n",
    "    \n",
    "    b_dif = []\n",
    "    for i in range(len(b_cord)):\n",
    "        if i!=0:\n",
    "            #print(a_cord[i][0],a_cord[i][0]-a_cord[i-1][0])\n",
    "            b_dif.append([b_cord[i][0]-b_cord[i-1][0],b_cord[i][1]-b_cord[i-1][1],b_cord[i][2]-b_cord[i-1][2]])\n",
    "    #print(np.shape(b_dif))\n",
    "    \n",
    "    \n",
    "    \n",
    "    #print(a_dif[0],b_dif[0])\n",
    "    dot = np.dot(a_dif[0], b_dif[0])\n",
    "    #print(dot)\n",
    "    \n",
    "    \n",
    "    a_mag = math.pow((math.pow(a_dif[0][0],2)+math.pow(a_dif[0][1],2)+math.pow(a_dif[0][2],2)),1/2)\n",
    "    b_mag = math.pow((math.pow(b_dif[0][0],2)+math.pow(b_dif[0][1],2)+math.pow(b_dif[0][2],2)),1/2)\n",
    "    \n",
    "    #print(a_mag, b_mag)\n",
    "    \n",
    "    result = dot/(a_mag*b_mag)\n",
    "    #print(result)\n",
    "    \n",
    "    \n",
    "    \n",
    "    sm = []\n",
    "    for i in range(len(a_dif)):\n",
    "        a_mag = math.pow((math.pow(a_dif[i][0],2)+math.pow(a_dif[i][1],2)+math.pow(a_dif[i][2],2)),1/2)\n",
    "        b_mag = math.pow((math.pow(b_dif[i][0],2)+math.pow(b_dif[i][1],2)+math.pow(b_dif[i][2],2)),1/2)\n",
    "        \n",
    "        dot = np.dot(a_dif[i], b_dif[i])\n",
    "        \n",
    "        result = dot/(a_mag*b_mag)\n",
    "        sm.append(result)\n",
    "    #print(sm)\n",
    "    return (sum(sm)/len(a_dif))"
   ]
  },
  {
   "cell_type": "code",
   "execution_count": 146,
   "id": "594679f9",
   "metadata": {
    "scrolled": true
   },
   "outputs": [
    {
     "name": "stdout",
     "output_type": "stream",
     "text": [
      "0.9437144968414274\n"
     ]
    }
   ],
   "source": [
    "customCorr(traj.xyz,0,1)"
   ]
  },
  {
   "cell_type": "code",
   "execution_count": 149,
   "id": "ac01f239",
   "metadata": {},
   "outputs": [
    {
     "name": "stdout",
     "output_type": "stream",
     "text": [
      "Ours:  1.0  CPPTraj:  0.0\n",
      "Ours:  0.9437144968414274  CPPTraj:  0.9437145\n",
      "Ours:  0.9627130480317564  CPPTraj:  0.96271306\n",
      "Ours:  0.9339144458006567  CPPTraj:  0.9339144\n",
      "Ours:  0.9121775874414216  CPPTraj:  0.91217756\n",
      "Ours:  0.8383713390465523  CPPTraj:  0.83837134\n",
      "Ours:  0.6397981959086457  CPPTraj:  0.6397982\n",
      "Ours:  0.5901137126156977  CPPTraj:  0.5901137\n",
      "Ours:  0.5191450460712612  CPPTraj:  0.5191451\n",
      "Ours:  0.38304635320486136  CPPTraj:  0.38304636\n",
      "Ours:  0.37509472013177925  CPPTraj:  0.3750947\n",
      "Ours:  0.06744835093226555  CPPTraj:  0.06744835\n",
      "Ours:  -0.03232632961467085  CPPTraj:  -0.03232633\n",
      "Ours:  0.06661156054462967  CPPTraj:  0.06661156\n",
      "Ours:  0.7002046417452243  CPPTraj:  0.7002047\n",
      "Ours:  0.47200337077466503  CPPTraj:  0.47200337\n",
      "Ours:  0.4824551243860297  CPPTraj:  0.48245513\n",
      "Ours:  0.38575024845981765  CPPTraj:  0.38575026\n",
      "Ours:  0.2339323305384343  CPPTraj:  0.23393233\n",
      "Ours:  0.19624977836092578  CPPTraj:  0.19624978\n",
      "Ours:  0.12056981093648493  CPPTraj:  0.12056981\n",
      "Ours:  0.1929561200343813  CPPTraj:  0.19295612\n",
      "Ours:  0.06396153325816357  CPPTraj:  0.063961536\n",
      "Ours:  0.019142983062724783  CPPTraj:  0.019142983\n",
      "Ours:  -0.028412873783744262  CPPTraj:  -0.028412875\n",
      "Ours:  0.046322681612235066  CPPTraj:  0.04632268\n",
      "Ours:  0.10236620526068349  CPPTraj:  0.1023662\n",
      "Ours:  -0.007218407925837749  CPPTraj:  -0.0072184075\n",
      "Ours:  0.019607465656399113  CPPTraj:  0.019607468\n",
      "Ours:  -0.03957691773038142  CPPTraj:  -0.039576918\n",
      "Ours:  -0.05589351380416981  CPPTraj:  -0.055893514\n",
      "Ours:  -0.03607346603028997  CPPTraj:  -0.036073465\n",
      "Ours:  -0.00889769807917303  CPPTraj:  -0.008897699\n",
      "Ours:  0.07733865798999734  CPPTraj:  0.07733866\n",
      "Ours:  0.0703228036885428  CPPTraj:  0.070322804\n",
      "Ours:  -0.05319143039817223  CPPTraj:  -0.05319143\n",
      "Ours:  -0.05851898672568859  CPPTraj:  -0.058518983\n",
      "Ours:  -0.062660717581061  CPPTraj:  -0.06266072\n",
      "Ours:  0.00758765714940147  CPPTraj:  0.0075876564\n",
      "Ours:  -0.16520734933106102  CPPTraj:  -0.16520734\n",
      "Ours:  -0.14910106780926374  CPPTraj:  -0.14910106\n",
      "Ours:  -0.170967303634105  CPPTraj:  -0.17096731\n",
      "Ours:  -0.19683936227412183  CPPTraj:  -0.19683936\n",
      "Ours:  -0.19175403916774592  CPPTraj:  -0.19175404\n",
      "Ours:  -0.17538166592670182  CPPTraj:  -0.17538166\n",
      "Ours:  -0.16995074046665665  CPPTraj:  -0.16995074\n",
      "Ours:  -0.1412663219790935  CPPTraj:  -0.14126632\n",
      "Ours:  -0.08093301424983684  CPPTraj:  -0.08093302\n",
      "Ours:  -0.012886905077915236  CPPTraj:  -0.012886906\n",
      "Ours:  -0.046071388905840574  CPPTraj:  -0.04607139\n",
      "Ours:  -0.16760179952824739  CPPTraj:  -0.1676018\n",
      "Ours:  -0.1313505879293053  CPPTraj:  -0.13135059\n",
      "Ours:  -0.18733597932867738  CPPTraj:  -0.18733598\n",
      "Ours:  -0.1630339882963925  CPPTraj:  -0.16303399\n",
      "Ours:  -0.0617393769363345  CPPTraj:  -0.061739378\n",
      "Ours:  -0.08639180227016352  CPPTraj:  -0.08639181\n",
      "Ours:  0.04359017523497796  CPPTraj:  0.043590177\n",
      "Ours:  0.08147093202738238  CPPTraj:  0.08147094\n",
      "Ours:  0.16220672577647335  CPPTraj:  0.16220672\n",
      "Ours:  0.09601850102499403  CPPTraj:  0.0960185\n",
      "Ours:  0.24797982657610518  CPPTraj:  0.24797983\n",
      "Ours:  0.13941266226747775  CPPTraj:  0.13941266\n",
      "Ours:  0.2497645959237667  CPPTraj:  0.24976459\n",
      "Ours:  0.21916204459631153  CPPTraj:  0.21916205\n",
      "Ours:  0.229750512011477  CPPTraj:  0.22975051\n",
      "Ours:  0.17881603212574632  CPPTraj:  0.17881604\n",
      "Ours:  0.2652325016082356  CPPTraj:  0.2652325\n",
      "Ours:  0.28397570883400924  CPPTraj:  0.28397572\n",
      "Ours:  0.22833804463224225  CPPTraj:  0.22833805\n",
      "Ours:  0.24304525454228423  CPPTraj:  0.24304526\n",
      "Ours:  0.23678499277921153  CPPTraj:  0.236785\n",
      "Ours:  0.26384366008027416  CPPTraj:  0.26384366\n",
      "Ours:  0.17298739347756437  CPPTraj:  0.1729874\n",
      "Ours:  0.2105892148667945  CPPTraj:  0.21058922\n",
      "Ours:  0.19028563887735875  CPPTraj:  0.19028564\n",
      "Ours:  0.23138221178942672  CPPTraj:  0.2313822\n",
      "Ours:  0.18195588351427097  CPPTraj:  0.18195589\n",
      "Ours:  0.31333381798491705  CPPTraj:  0.3133338\n",
      "Ours:  0.2723647915644533  CPPTraj:  0.2723648\n",
      "Ours:  0.23892171806614934  CPPTraj:  0.23892172\n",
      "Ours:  0.09626802188257916  CPPTraj:  0.09626802\n",
      "Ours:  0.19470278817540895  CPPTraj:  0.19470279\n",
      "Ours:  0.22987398972772177  CPPTraj:  0.22987399\n",
      "Ours:  0.21366262007035522  CPPTraj:  0.21366262\n",
      "Ours:  0.17462932153888258  CPPTraj:  0.17462932\n",
      "Ours:  0.23784797907704072  CPPTraj:  0.23784798\n",
      "Ours:  0.23364430404009287  CPPTraj:  0.2336443\n",
      "Ours:  0.19404868581772103  CPPTraj:  0.19404869\n",
      "Ours:  0.1863207959379744  CPPTraj:  0.1863208\n",
      "Ours:  0.17575780926620602  CPPTraj:  0.17575781\n",
      "Ours:  0.34778256836468047  CPPTraj:  0.34778258\n",
      "Ours:  0.27673672112243647  CPPTraj:  0.2767367\n",
      "Ours:  0.2940119852458328  CPPTraj:  0.29401198\n",
      "Ours:  0.1850109546715015  CPPTraj:  0.18501095\n",
      "Ours:  0.25598850145903734  CPPTraj:  0.2559885\n",
      "Ours:  nan  CPPTraj:  nan\n",
      "Ours:  0.11155480704830291  CPPTraj:  0.11155481\n",
      "Ours:  0.05168952686877329  CPPTraj:  0.051689528\n",
      "Ours:  0.14802430036318268  CPPTraj:  0.1480243\n",
      "Ours:  0.10232674363531497  CPPTraj:  0.10232674\n",
      "Ours:  0.23676761583792724  CPPTraj:  0.23676762\n",
      "Ours:  0.2701600150237413  CPPTraj:  0.27016002\n",
      "Ours:  0.20896419636446562  CPPTraj:  0.2089642\n",
      "Ours:  0.20574375292198863  CPPTraj:  0.20574376\n",
      "Ours:  0.045283443357662496  CPPTraj:  0.045283444\n",
      "Ours:  -0.14000922006801103  CPPTraj:  -0.14000921\n",
      "Ours:  -0.02641495205120027  CPPTraj:  -0.026414951\n",
      "Ours:  -0.2276786457769393  CPPTraj:  -0.22767864\n",
      "Ours:  -0.23977949388456993  CPPTraj:  -0.23977949\n",
      "Ours:  -0.2821109987848327  CPPTraj:  -0.282111\n",
      "Ours:  -0.30845388919911365  CPPTraj:  -0.3084539\n",
      "Ours:  -0.26778046967950575  CPPTraj:  -0.26778048\n",
      "Ours:  -0.26452175810908507  CPPTraj:  -0.26452175\n",
      "Ours:  -0.16307914257113346  CPPTraj:  -0.16307914\n",
      "Ours:  0.344024013703712  CPPTraj:  0.344024\n",
      "Ours:  0.26849288290781337  CPPTraj:  0.26849288\n",
      "Ours:  0.2518524040014181  CPPTraj:  0.2518524\n",
      "Ours:  0.14001532275832357  CPPTraj:  0.14001532\n",
      "Ours:  0.3715062070388506  CPPTraj:  0.3715062\n",
      "Ours:  0.4646726479883388  CPPTraj:  0.46467265\n",
      "Ours:  0.27782681419812927  CPPTraj:  0.27782682\n",
      "Ours:  0.3225077047139734  CPPTraj:  0.3225077\n",
      "Ours:  0.16257088482335383  CPPTraj:  0.16257088\n",
      "Ours:  0.2957330642406451  CPPTraj:  0.29573306\n",
      "Ours:  0.262763010644733  CPPTraj:  0.26276302\n",
      "Ours:  0.36843972856364493  CPPTraj:  0.36843973\n",
      "Ours:  0.31706538309729976  CPPTraj:  0.3170654\n",
      "Ours:  0.3502886008271669  CPPTraj:  0.3502886\n",
      "Ours:  0.39160390849847654  CPPTraj:  0.39160392\n",
      "Ours:  0.1995718261590441  CPPTraj:  0.19957183\n",
      "Ours:  0.12372370206762494  CPPTraj:  0.1237237\n",
      "Ours:  0.19996185246352471  CPPTraj:  0.19996186\n",
      "Ours:  0.18061729251865832  CPPTraj:  0.18061729\n",
      "Ours:  0.22740042518196388  CPPTraj:  0.22740042\n",
      "Ours:  0.09537320097326511  CPPTraj:  0.0953732\n",
      "Ours:  0.3260728467202266  CPPTraj:  0.32607284\n",
      "Ours:  0.3146811227960915  CPPTraj:  0.3146811\n",
      "Ours:  0.2694195637952182  CPPTraj:  0.26941955\n",
      "Ours:  0.20408010231698273  CPPTraj:  0.2040801\n",
      "Ours:  0.19344715198809173  CPPTraj:  0.19344716\n"
     ]
    },
    {
     "name": "stderr",
     "output_type": "stream",
     "text": [
      "<ipython-input-147-6256f5c4b526>:47: RuntimeWarning: invalid value encountered in double_scalars\n",
      "  result = dot/(a_mag*b_mag)\n",
      "<ipython-input-147-6256f5c4b526>:35: RuntimeWarning: invalid value encountered in double_scalars\n",
      "  result = dot/(a_mag*b_mag)\n"
     ]
    },
    {
     "name": "stdout",
     "output_type": "stream",
     "text": [
      "Ours:  0.1985428847406991  CPPTraj:  0.19854288\n",
      "Ours:  0.1672552637204532  CPPTraj:  0.16725527\n",
      "Ours:  0.07958687434131297  CPPTraj:  0.07958687\n",
      "Ours:  -0.00017618011538749446  CPPTraj:  -0.00017617883\n",
      "Ours:  0.06074572045184022  CPPTraj:  0.06074572\n",
      "Ours:  0.09149375654475812  CPPTraj:  0.091493756\n",
      "Ours:  0.06384255828524057  CPPTraj:  0.06384256\n",
      "Ours:  0.03646456359480396  CPPTraj:  0.036464565\n",
      "Ours:  0.022860407218163972  CPPTraj:  0.022860408\n",
      "Ours:  -0.034229886018081135  CPPTraj:  -0.034229886\n",
      "Ours:  0.00964399825568255  CPPTraj:  0.009643997\n",
      "Ours:  0.06586048240199845  CPPTraj:  0.06586048\n",
      "Ours:  0.03774763912337122  CPPTraj:  0.03774764\n",
      "Ours:  0.04330685863969534  CPPTraj:  0.043306857\n",
      "Ours:  0.005930374966662031  CPPTraj:  0.005930375\n",
      "Ours:  0.20411027517077499  CPPTraj:  0.20411028\n",
      "Ours:  0.09806865838951216  CPPTraj:  0.09806866\n",
      "Ours:  nan  CPPTraj:  nan\n",
      "Ours:  0.14416740956518093  CPPTraj:  0.14416741\n",
      "Ours:  0.06534204287276209  CPPTraj:  0.06534204\n",
      "Ours:  0.036515045543258094  CPPTraj:  0.036515046\n",
      "Ours:  0.02594665489182909  CPPTraj:  0.025946654\n",
      "Ours:  0.05735422654076174  CPPTraj:  0.057354227\n",
      "Ours:  0.03240034815453665  CPPTraj:  0.032400347\n",
      "Ours:  -0.043169332896847636  CPPTraj:  -0.04316933\n",
      "Ours:  -0.029838102096232413  CPPTraj:  -0.0298381\n",
      "Ours:  0.008903561192545272  CPPTraj:  0.008903561\n",
      "Ours:  0.026621918829297497  CPPTraj:  0.026621921\n",
      "Ours:  0.09807101925670195  CPPTraj:  0.09807102\n",
      "Ours:  -0.0857334333511118  CPPTraj:  -0.08573343\n",
      "Ours:  -0.14452971480418866  CPPTraj:  -0.14452972\n",
      "Ours:  -0.0766187539033571  CPPTraj:  -0.07661875\n",
      "Ours:  -0.02779235856797761  CPPTraj:  -0.027792357\n",
      "Ours:  -0.027125298158207703  CPPTraj:  -0.027125297\n",
      "Ours:  -0.2420652463748982  CPPTraj:  -0.24206525\n",
      "Ours:  nan  CPPTraj:  nan\n",
      "Ours:  -0.25427087636100354  CPPTraj:  -0.25427088\n",
      "Ours:  -0.14749315759241285  CPPTraj:  -0.14749315\n",
      "Ours:  -0.35918358360764285  CPPTraj:  -0.35918358\n",
      "Ours:  -0.3592479645212806  CPPTraj:  -0.35924795\n",
      "Ours:  -0.2873785835516266  CPPTraj:  -0.28737858\n",
      "Ours:  -0.41696160713785235  CPPTraj:  -0.4169616\n",
      "Ours:  -0.2993616830827734  CPPTraj:  -0.29936168\n",
      "Ours:  -0.459237521527034  CPPTraj:  -0.45923752\n",
      "Ours:  -0.43093395679572666  CPPTraj:  -0.43093395\n",
      "Ours:  -0.34570256220584866  CPPTraj:  -0.34570256\n",
      "Ours:  -0.4377569143715773  CPPTraj:  -0.43775693\n",
      "Ours:  -0.4331853944543372  CPPTraj:  -0.4331854\n",
      "Ours:  -0.41176120120362514  CPPTraj:  -0.4117612\n",
      "Ours:  -0.4096653782701733  CPPTraj:  -0.40966538\n",
      "Ours:  -0.44305458260704167  CPPTraj:  -0.4430546\n",
      "Ours:  -0.4032620791335613  CPPTraj:  -0.40326208\n",
      "Ours:  -0.40513780836068647  CPPTraj:  -0.4051378\n",
      "Ours:  -0.4560372177777308  CPPTraj:  -0.45603722\n",
      "Ours:  -0.42696461442109346  CPPTraj:  -0.4269646\n",
      "Ours:  -0.42258197477014764  CPPTraj:  -0.42258197\n",
      "Ours:  -0.24262490502196452  CPPTraj:  -0.24262491\n",
      "Ours:  -0.45403181720705926  CPPTraj:  -0.45403183\n",
      "Ours:  -0.43076087008072267  CPPTraj:  -0.43076086\n",
      "Ours:  -0.45058425429131027  CPPTraj:  -0.45058426\n",
      "Ours:  -0.5154783001427428  CPPTraj:  -0.5154783\n",
      "Ours:  -0.2790968908026732  CPPTraj:  -0.2790969\n",
      "Ours:  -0.2630810774322773  CPPTraj:  -0.26308107\n",
      "Ours:  -0.21043655092652042  CPPTraj:  -0.21043655\n",
      "Ours:  -0.24563383251347262  CPPTraj:  -0.24563383\n",
      "Ours:  -0.19669913481027146  CPPTraj:  -0.19669913\n",
      "Ours:  -0.4148917651989203  CPPTraj:  -0.41489178\n",
      "Ours:  -0.37586420111263524  CPPTraj:  -0.3758642\n",
      "Ours:  -0.3601638292526031  CPPTraj:  -0.36016384\n",
      "Ours:  -0.2947650320567688  CPPTraj:  -0.29476503\n",
      "Ours:  -0.2674346464847261  CPPTraj:  -0.26743466\n",
      "Ours:  -0.2235113603954103  CPPTraj:  -0.22351135\n",
      "Ours:  -0.28818162116838003  CPPTraj:  -0.28818163\n",
      "Ours:  -0.33372646303851783  CPPTraj:  -0.33372647\n",
      "Ours:  -0.2237181884979013  CPPTraj:  -0.2237182\n",
      "Ours:  -0.20373723512045955  CPPTraj:  -0.20373723\n",
      "Ours:  -0.20921612408950785  CPPTraj:  -0.20921612\n",
      "Ours:  -0.23874314634034163  CPPTraj:  -0.23874314\n",
      "Ours:  -0.23027723119374446  CPPTraj:  -0.23027723\n",
      "Ours:  -0.17477370822008692  CPPTraj:  -0.17477371\n",
      "Ours:  -0.1878909858427002  CPPTraj:  -0.18789099\n",
      "Ours:  -0.13852388231202356  CPPTraj:  -0.13852388\n",
      "Ours:  -0.12033448261377735  CPPTraj:  -0.12033448\n",
      "Ours:  -0.08353642569989736  CPPTraj:  -0.083536424\n",
      "Ours:  -0.07801105371293882  CPPTraj:  -0.07801105\n",
      "Ours:  0.02898122467362475  CPPTraj:  0.028981224\n",
      "Ours:  -0.04700092245809902  CPPTraj:  -0.047000922\n",
      "Ours:  -0.04826825034380944  CPPTraj:  -0.04826825\n",
      "Ours:  0.048733648311194665  CPPTraj:  0.048733648\n",
      "Ours:  0.13748785774504396  CPPTraj:  0.13748786\n",
      "Ours:  0.008795744415453905  CPPTraj:  0.008795745\n",
      "Ours:  -0.022932945618518462  CPPTraj:  -0.022932945\n",
      "Ours:  -0.028826565044740984  CPPTraj:  -0.028826565\n",
      "Ours:  0.06831052087930549  CPPTraj:  0.06831052\n",
      "Ours:  0.029559476130866034  CPPTraj:  0.029559478\n",
      "Ours:  0.11496077673817365  CPPTraj:  0.114960775\n",
      "Ours:  0.02403944678902457  CPPTraj:  0.02403945\n",
      "Ours:  0.031700990440966345  CPPTraj:  0.03170099\n",
      "Ours:  0.03947801264497224  CPPTraj:  0.039478015\n",
      "Ours:  -0.011281357682056278  CPPTraj:  -0.011281355\n",
      "Ours:  -0.002208223895111151  CPPTraj:  -0.0022082233\n",
      "Ours:  -0.0009234482139989619  CPPTraj:  -0.0009234461\n",
      "Ours:  0.038598556635709325  CPPTraj:  0.03859856\n",
      "Ours:  0.07109980347174985  CPPTraj:  0.0710998\n",
      "Ours:  0.02910322936383613  CPPTraj:  0.029103229\n",
      "Ours:  0.01356458458545099  CPPTraj:  0.013564587\n",
      "Ours:  0.0157196219487564  CPPTraj:  0.015719622\n",
      "Ours:  0.018802132019066282  CPPTraj:  0.018802132\n",
      "Ours:  0.05055443653012738  CPPTraj:  0.050554436\n",
      "Ours:  0.018178548948593314  CPPTraj:  0.018178547\n",
      "Ours:  0.051270905299054585  CPPTraj:  0.051270906\n",
      "Ours:  0.11189287793336695  CPPTraj:  0.11189288\n",
      "Ours:  0.13740589485161916  CPPTraj:  0.13740589\n",
      "Ours:  0.09606297597279624  CPPTraj:  0.09606297\n",
      "Ours:  0.13251592696370273  CPPTraj:  0.13251592\n",
      "Ours:  0.14044704321096138  CPPTraj:  0.14044704\n",
      "Ours:  0.09782666228089583  CPPTraj:  0.09782666\n",
      "Ours:  0.08674259935927177  CPPTraj:  0.086742595\n",
      "Ours:  0.0762091054277726  CPPTraj:  0.076209106\n",
      "Ours:  0.07090175607502415  CPPTraj:  0.07090175\n",
      "Ours:  0.055089232626185446  CPPTraj:  0.05508923\n",
      "Ours:  0.11521156746925836  CPPTraj:  0.11521157\n",
      "Ours:  -0.028497218403189226  CPPTraj:  -0.028497221\n",
      "Ours:  -0.0666099831393359  CPPTraj:  -0.066609986\n",
      "Ours:  -0.07032898534109201  CPPTraj:  -0.07032899\n",
      "Ours:  -0.0778020084712182  CPPTraj:  -0.07780201\n",
      "Ours:  -0.05811574191433655  CPPTraj:  -0.058115743\n",
      "Ours:  -0.06642836436978339  CPPTraj:  -0.06642836\n",
      "Ours:  -0.07566615270645417  CPPTraj:  -0.07566615\n",
      "Ours:  -0.0978795754450013  CPPTraj:  -0.09787957\n",
      "Ours:  0.0028102272567492384  CPPTraj:  0.002810227\n",
      "Ours:  -0.08672097332793481  CPPTraj:  -0.08672097\n",
      "Ours:  -0.11842849058997702  CPPTraj:  -0.11842849\n",
      "Ours:  -0.06087183057005759  CPPTraj:  -0.060871832\n",
      "Ours:  -0.06046505559733558  CPPTraj:  -0.060465056\n",
      "Ours:  -0.0051519530500154795  CPPTraj:  -0.005151954\n",
      "Ours:  -0.045569941906030295  CPPTraj:  -0.045569945\n",
      "Ours:  -0.16610463843529777  CPPTraj:  -0.16610464\n",
      "Ours:  0.04873727581719731  CPPTraj:  0.048737273\n",
      "Ours:  0.035438001921338405  CPPTraj:  0.035438\n",
      "Ours:  0.04547806341820802  CPPTraj:  0.045478065\n",
      "Ours:  0.027308063275012368  CPPTraj:  0.027308062\n",
      "Ours:  0.06108938378791437  CPPTraj:  0.06108938\n",
      "Ours:  0.06639103069038851  CPPTraj:  0.06639103\n",
      "Ours:  0.03688760869965747  CPPTraj:  0.03688761\n",
      "Ours:  0.08213447636482699  CPPTraj:  0.08213448\n",
      "Ours:  0.10188344319277315  CPPTraj:  0.10188344\n",
      "Ours:  0.05331403400598402  CPPTraj:  0.053314034\n",
      "Ours:  0.05368776494069426  CPPTraj:  0.053687762\n",
      "Ours:  -0.020143027699167836  CPPTraj:  -0.020143028\n",
      "Ours:  0.0629641883298628  CPPTraj:  0.062964186\n",
      "Ours:  -0.017695393518400274  CPPTraj:  -0.017695395\n",
      "Ours:  0.03024157679875166  CPPTraj:  0.030241575\n",
      "Ours:  0.028371231827714612  CPPTraj:  0.02837123\n",
      "Ours:  0.0017006612153666232  CPPTraj:  0.001700661\n",
      "Ours:  0.03232997006938211  CPPTraj:  0.03232997\n",
      "Ours:  -0.027636963087162698  CPPTraj:  -0.027636964\n",
      "Ours:  -0.04238082832508862  CPPTraj:  -0.04238083\n",
      "Ours:  -0.10187863233661365  CPPTraj:  -0.101878636\n",
      "Ours:  -0.00030974206129618504  CPPTraj:  -0.00030974206\n",
      "Ours:  -0.003362714710134995  CPPTraj:  -0.0033627138\n",
      "Ours:  -0.01215586009196074  CPPTraj:  -0.01215586\n",
      "Ours:  -0.03351206199324116  CPPTraj:  -0.033512063\n",
      "Ours:  0.04185616735974487  CPPTraj:  0.041856166\n"
     ]
    }
   ],
   "source": [
    "for i in range(len(corr[0])):\n",
    "    print(\"Ours: \", customCorr(traj.xyz,0,i),\" CPPTraj: \", corr[0][i])"
   ]
  },
  {
   "cell_type": "code",
   "execution_count": 125,
   "id": "29d82779",
   "metadata": {},
   "outputs": [
    {
     "name": "stdout",
     "output_type": "stream",
     "text": [
      "(304, 304)\n"
     ]
    }
   ],
   "source": [
    "samplecorr = pt.atomiccorr(traj[0:2], byres=False)\n",
    "print(np.shape(samplecorr))"
   ]
  },
  {
   "cell_type": "code",
   "execution_count": 126,
   "id": "04fb2dd3",
   "metadata": {},
   "outputs": [
    {
     "data": {
      "text/plain": [
       "array([ 0.        ,  0.8997354 ,  0.99886817, ..., -0.1980295 ,\n",
       "        0.        ,  0.21693046], dtype=float32)"
      ]
     },
     "execution_count": 126,
     "metadata": {},
     "output_type": "execute_result"
    }
   ],
   "source": [
    "samplecorr[0]"
   ]
  }
 ],
 "metadata": {
  "kernelspec": {
   "display_name": "proTraj",
   "language": "python",
   "name": "protraj"
  },
  "language_info": {
   "codemirror_mode": {
    "name": "ipython",
    "version": 3
   },
   "file_extension": ".py",
   "mimetype": "text/x-python",
   "name": "python",
   "nbconvert_exporter": "python",
   "pygments_lexer": "ipython3",
   "version": "3.8.8"
  }
 },
 "nbformat": 4,
 "nbformat_minor": 5
}
