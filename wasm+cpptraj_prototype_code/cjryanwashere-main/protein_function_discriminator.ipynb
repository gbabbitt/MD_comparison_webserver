{
  "nbformat": 4,
  "nbformat_minor": 0,
  "metadata": {
    "colab": {
      "name": "functional discriminator V2",
      "provenance": [],
      "mount_file_id": "1nRYGVpozTSN2V5vbbzZRTbYFklO6NjgO",
      "authorship_tag": "ABX9TyNDf99V2ZYFO75pQ40ZSfQK",
      "include_colab_link": true
    },
    "kernelspec": {
      "name": "python3",
      "display_name": "Python 3"
    },
    "language_info": {
      "name": "python"
    }
  },
  "cells": [
    {
      "cell_type": "markdown",
      "metadata": {
        "id": "view-in-github",
        "colab_type": "text"
      },
      "source": [
        "<a href=\"https://colab.research.google.com/github/cjryanwashere/cjryanwashere/blob/main/functional_discriminator_V2.ipynb\" target=\"_parent\"><img src=\"https://colab.research.google.com/assets/colab-badge.svg\" alt=\"Open In Colab\"/></a>"
      ]
    },
    {
      "cell_type": "code",
      "metadata": {
        "id": "3F3NJL6sQy0w"
      },
      "source": [
        "import os"
      ],
      "execution_count": 61,
      "outputs": []
    },
    {
      "cell_type": "code",
      "metadata": {
        "id": "cD5qDo_kQ8Ky"
      },
      "source": [
        "path = 'drive/MyDrive/DROIDS_Webserver/trainingData'"
      ],
      "execution_count": 62,
      "outputs": []
    },
    {
      "cell_type": "code",
      "metadata": {
        "id": "RuFqkXs_Q_37"
      },
      "source": [
        "def load_Data(path, amount):\n",
        "  array = []\n",
        "  dir = os.listdir(path)\n",
        "  \n",
        "  if amount>len(dir):\n",
        "    print(\"Error, amount is too high\")\n",
        "    return \n",
        "\n",
        "  for i in range(amount):\n",
        "    print(i)\n",
        "    x = os.path.join(path, dir[i])\n",
        "    x = open(x, 'r')\n",
        "    x = x.read()\n",
        "\n",
        "    x = x.split(\"\\n\")\n",
        "    x.pop(0)\n",
        "\n",
        "    k = x\n",
        "    x = []\n",
        "    for i in k:\n",
        "      v = i.split()\n",
        "      x.append(v)\n",
        "    \n",
        "\n",
        "\n",
        "    array.append(x)\n",
        "    \n",
        "\n",
        "  return array"
      ],
      "execution_count": 63,
      "outputs": []
    },
    {
      "cell_type": "code",
      "metadata": {
        "id": "nTQkS_utRVDu"
      },
      "source": [
        "array = load_Data(path, 500)"
      ],
      "execution_count": null,
      "outputs": []
    },
    {
      "cell_type": "code",
      "metadata": {
        "id": "kjZleR-PRVqS"
      },
      "source": [
        "def prepare_fluctuation_Dataset(array):\n",
        "  train = []\n",
        "  labels = []\n",
        "\n",
        "  val = []\n",
        "  val_labels = []\n",
        "\n",
        "\n",
        "  for i in array:\n",
        "    labelset = []\n",
        "    trainset = []\n",
        "\n",
        "    valset = []\n",
        "    val_labelset = []\n",
        "\n",
        "    count = 0 \n",
        "    for j in i:\n",
        "      if count<15000:\n",
        "        count += 1\n",
        "        labelset.append(j[0])\n",
        "\n",
        "        trainset.append(j[1])\n",
        "      else:\n",
        "        count+=1\n",
        "        if count<20000:\n",
        "          val_labelset.append(j[0])\n",
        "          valset.append(j[1])\n",
        "\n",
        "    val.append(valset)\n",
        "    val_labels.append(val_labelset)\n",
        "\n",
        "    \n",
        "    train.append(trainset)\n",
        "    labels.append(labelset)\n",
        "\n",
        "  return train, labels, val, val_labels"
      ],
      "execution_count": 68,
      "outputs": []
    },
    {
      "cell_type": "code",
      "metadata": {
        "id": "kKJw1XCnRbRN"
      },
      "source": [
        "train, labels, val, val_labels = prepare_fluctuation_Dataset(array)"
      ],
      "execution_count": 69,
      "outputs": []
    },
    {
      "cell_type": "code",
      "metadata": {
        "colab": {
          "base_uri": "https://localhost:8080/"
        },
        "id": "u5D3_yAGPgYh",
        "outputId": "e1d13f8d-d4c3-470e-81f1-039c0abf289d"
      },
      "source": [
        "print(np.shape(train),np.shape(labels),np.shape(val),np.shape(val_labels))"
      ],
      "execution_count": 70,
      "outputs": [
        {
          "output_type": "stream",
          "name": "stdout",
          "text": [
            "(500, 15000) (500, 15000) (500, 4999) (500, 4999)\n"
          ]
        }
      ]
    },
    {
      "cell_type": "code",
      "metadata": {
        "id": "KO0WxPP0Rby1"
      },
      "source": [
        "import tensorflow as tf\n",
        "import numpy as np"
      ],
      "execution_count": 8,
      "outputs": []
    },
    {
      "cell_type": "code",
      "metadata": {
        "id": "ky7trckiRpb2"
      },
      "source": [
        "def convert_to_floats(array):\n",
        "  result = []\n",
        "\n",
        "  for i in array:\n",
        "    p = []\n",
        "    for j in i:\n",
        "      x = float(j)\n",
        "      p.append(x)\n",
        "    result.append(p)\n",
        "  \n",
        "  return result"
      ],
      "execution_count": 71,
      "outputs": []
    },
    {
      "cell_type": "code",
      "metadata": {
        "id": "bZk7rNfdRsKi"
      },
      "source": [
        "train = convert_to_floats(train)\n",
        "train"
      ],
      "execution_count": null,
      "outputs": []
    },
    {
      "cell_type": "code",
      "metadata": {
        "id": "w3O2hhy6RvsE"
      },
      "source": [
        "labels = convert_to_floats(labels)\n",
        "labels"
      ],
      "execution_count": null,
      "outputs": []
    },
    {
      "cell_type": "code",
      "metadata": {
        "id": "0FohxWJfP6eu"
      },
      "source": [
        "val = convert_to_floats(val)\n",
        "val"
      ],
      "execution_count": null,
      "outputs": []
    },
    {
      "cell_type": "code",
      "metadata": {
        "id": "Ayatitn0P-je"
      },
      "source": [
        "val_labels = convert_to_floats(val_labels)"
      ],
      "execution_count": 75,
      "outputs": []
    },
    {
      "cell_type": "code",
      "metadata": {
        "id": "uKPMLFClQPsO"
      },
      "source": [
        "val_labels"
      ],
      "execution_count": null,
      "outputs": []
    },
    {
      "cell_type": "code",
      "metadata": {
        "colab": {
          "base_uri": "https://localhost:8080/"
        },
        "id": "OdJ8kIQnIHjp",
        "outputId": "9b1b714d-968c-4a67-afc0-efee5a186e69"
      },
      "source": [
        "np.shape(train)"
      ],
      "execution_count": 77,
      "outputs": [
        {
          "output_type": "execute_result",
          "data": {
            "text/plain": [
              "(500, 15000)"
            ]
          },
          "metadata": {},
          "execution_count": 77
        }
      ]
    },
    {
      "cell_type": "code",
      "metadata": {
        "colab": {
          "base_uri": "https://localhost:8080/"
        },
        "id": "EXjyT4r3IKJN",
        "outputId": "10fa0906-e85d-4478-ae08-a8531bf20552"
      },
      "source": [
        "np.shape(labels)"
      ],
      "execution_count": 78,
      "outputs": [
        {
          "output_type": "execute_result",
          "data": {
            "text/plain": [
              "(500, 15000)"
            ]
          },
          "metadata": {},
          "execution_count": 78
        }
      ]
    },
    {
      "cell_type": "code",
      "metadata": {
        "id": "2SmbRyeJSBaR"
      },
      "source": [
        "def prepare_single_group_fluctuation_dataset(train, labels):\n",
        "  xtrain = []\n",
        "  ylabels = []\n",
        "  for i in range(len(train[0])):\n",
        "    groupfluct = []\n",
        "    for j in range(len(train)):\n",
        "      groupfluct.append(train[j][i])\n",
        "    xtrain.append(groupfluct)\n",
        "    ylabels.append(labels[0][i])\n",
        "  \n",
        "  return xtrain, ylabels"
      ],
      "execution_count": 17,
      "outputs": []
    },
    {
      "cell_type": "code",
      "metadata": {
        "colab": {
          "base_uri": "https://localhost:8080/"
        },
        "id": "s52nCYmHIcXk",
        "outputId": "024ecb75-b25b-4867-c7b3-a1c11ee7a1af"
      },
      "source": [
        "train, labels = prepare_single_group_fluctuation_dataset(train, labels)\n",
        "print(np.shape(train), np.shape(labels))"
      ],
      "execution_count": 79,
      "outputs": [
        {
          "output_type": "stream",
          "name": "stdout",
          "text": [
            "(15000, 500) (15000,)\n"
          ]
        }
      ]
    },
    {
      "cell_type": "code",
      "metadata": {
        "colab": {
          "base_uri": "https://localhost:8080/"
        },
        "id": "4mVwp5jEQkaF",
        "outputId": "77f933ae-aff1-4096-f951-5c6af6ff0a16"
      },
      "source": [
        "val, val_labels = prepare_single_group_fluctuation_dataset(val, val_labels)\n",
        "print(np.shape(val), np.shape(val_labels))"
      ],
      "execution_count": 88,
      "outputs": [
        {
          "output_type": "stream",
          "name": "stdout",
          "text": [
            "(4999, 500) (4999,)\n"
          ]
        }
      ]
    },
    {
      "cell_type": "code",
      "metadata": {
        "id": "DdzW4-SoI3Ps"
      },
      "source": [
        "modelV1 = tf.keras.models.Sequential([\n",
        "                                      tf.keras.layers.Dense(500, activation='relu'),\n",
        "                                      tf.keras.layers.Dense(300),\n",
        "                                      tf.keras.layers.Dropout(0.2),\n",
        "                                      tf.keras.layers.Dense(100),\n",
        "                                      tf.keras.layers.Dropout(0.2),\n",
        "                                      tf.keras.layers.Dense(1)\n",
        "])"
      ],
      "execution_count": 80,
      "outputs": []
    },
    {
      "cell_type": "code",
      "metadata": {
        "colab": {
          "base_uri": "https://localhost:8080/"
        },
        "id": "iXY6Q5cGKIMw",
        "outputId": "91098bc6-d5e5-409e-88bf-08d0ad0924c4"
      },
      "source": [
        "np.shape(tf.expand_dims(train, axis=1))"
      ],
      "execution_count": 81,
      "outputs": [
        {
          "output_type": "execute_result",
          "data": {
            "text/plain": [
              "TensorShape([15000, 1, 500])"
            ]
          },
          "metadata": {},
          "execution_count": 81
        }
      ]
    },
    {
      "cell_type": "code",
      "metadata": {
        "colab": {
          "base_uri": "https://localhost:8080/"
        },
        "id": "ISaHVFV4JavY",
        "outputId": "11e035b8-24ce-422e-bdde-3139ee3f28e2"
      },
      "source": [
        "modelV1(tf.expand_dims(train[0], axis=0))"
      ],
      "execution_count": 82,
      "outputs": [
        {
          "output_type": "execute_result",
          "data": {
            "text/plain": [
              "<tf.Tensor: shape=(1, 1), dtype=float32, numpy=array([[-0.09546283]], dtype=float32)>"
            ]
          },
          "metadata": {},
          "execution_count": 82
        }
      ]
    },
    {
      "cell_type": "code",
      "metadata": {
        "id": "7NoAsQsZKbTn"
      },
      "source": [
        "modelV1.compile(optimizer='adam',\n",
        "                loss = tf.keras.losses.BinaryCrossentropy(from_logits=True),\n",
        "                metrics = ['accuracy'])"
      ],
      "execution_count": 83,
      "outputs": []
    },
    {
      "cell_type": "code",
      "metadata": {
        "colab": {
          "base_uri": "https://localhost:8080/"
        },
        "id": "ysbxkSuXLT7S",
        "outputId": "d8888032-5159-4da9-dfa5-3b7c84fe86b7"
      },
      "source": [
        "np.shape(tf.expand_dims(labels, axis=-1))"
      ],
      "execution_count": 84,
      "outputs": [
        {
          "output_type": "execute_result",
          "data": {
            "text/plain": [
              "TensorShape([15000, 1])"
            ]
          },
          "metadata": {},
          "execution_count": 84
        }
      ]
    },
    {
      "cell_type": "code",
      "metadata": {
        "id": "j-R82BTRLhGf"
      },
      "source": [
        "labels = np.expand_dims(labels, axis=-1)\n",
        "train = tf.expand_dims(train, axis=1)"
      ],
      "execution_count": 85,
      "outputs": []
    },
    {
      "cell_type": "code",
      "metadata": {
        "colab": {
          "base_uri": "https://localhost:8080/"
        },
        "id": "Go8d7-yVKrMX",
        "outputId": "e3f62221-6b52-4450-a2cd-f4a8c4ce9a55"
      },
      "source": [
        "modelV1.fit(train, labels, epochs = 10)"
      ],
      "execution_count": 86,
      "outputs": [
        {
          "output_type": "stream",
          "name": "stdout",
          "text": [
            "Epoch 1/10\n",
            "WARNING:tensorflow:Model was constructed with shape (1, 500) for input KerasTensor(type_spec=TensorSpec(shape=(1, 500), dtype=tf.float32, name='dense_12_input'), name='dense_12_input', description=\"created by layer 'dense_12_input'\"), but it was called on an input with incompatible shape (None, 1, 500).\n",
            "WARNING:tensorflow:Model was constructed with shape (1, 500) for input KerasTensor(type_spec=TensorSpec(shape=(1, 500), dtype=tf.float32, name='dense_12_input'), name='dense_12_input', description=\"created by layer 'dense_12_input'\"), but it was called on an input with incompatible shape (None, 1, 500).\n",
            "469/469 [==============================] - 5s 8ms/step - loss: 0.2007 - accuracy: 0.9023\n",
            "Epoch 2/10\n",
            "469/469 [==============================] - 4s 8ms/step - loss: 0.0408 - accuracy: 0.9897\n",
            "Epoch 3/10\n",
            "469/469 [==============================] - 4s 8ms/step - loss: 0.0452 - accuracy: 0.9838\n",
            "Epoch 4/10\n",
            "469/469 [==============================] - 4s 8ms/step - loss: 0.0157 - accuracy: 0.9947\n",
            "Epoch 5/10\n",
            "469/469 [==============================] - 4s 8ms/step - loss: 0.0104 - accuracy: 0.9959\n",
            "Epoch 6/10\n",
            "469/469 [==============================] - 4s 8ms/step - loss: 0.0184 - accuracy: 0.9927\n",
            "Epoch 7/10\n",
            "469/469 [==============================] - 4s 8ms/step - loss: 0.0038 - accuracy: 0.9987\n",
            "Epoch 8/10\n",
            "469/469 [==============================] - 4s 8ms/step - loss: 0.0125 - accuracy: 0.9959\n",
            "Epoch 9/10\n",
            "469/469 [==============================] - 4s 8ms/step - loss: 0.0060 - accuracy: 0.9979\n",
            "Epoch 10/10\n",
            "469/469 [==============================] - 4s 8ms/step - loss: 0.0056 - accuracy: 0.9980\n"
          ]
        },
        {
          "output_type": "execute_result",
          "data": {
            "text/plain": [
              "<keras.callbacks.History at 0x7fed97add810>"
            ]
          },
          "metadata": {},
          "execution_count": 86
        }
      ]
    },
    {
      "cell_type": "code",
      "metadata": {
        "colab": {
          "base_uri": "https://localhost:8080/"
        },
        "id": "pMarEOqmQfUo",
        "outputId": "32af13d4-bfb5-44df-e269-7fa6e3e4b4a9"
      },
      "source": [
        "val = tf.expand_dims(val, axis=1)\n",
        "val_labels = np.expand_dims(val_labels, axis=-1)\n",
        "print(np.shape(val), np.shape(val_labels))"
      ],
      "execution_count": 89,
      "outputs": [
        {
          "output_type": "stream",
          "name": "stdout",
          "text": [
            "(4999, 1, 500) (4999, 1)\n"
          ]
        }
      ]
    },
    {
      "cell_type": "code",
      "metadata": {
        "colab": {
          "base_uri": "https://localhost:8080/"
        },
        "id": "zpXEUugBRM-o",
        "outputId": "78f989eb-6c90-4ddc-b9a3-b422d4df8e7d"
      },
      "source": [
        "modelV1.fit(val, val_labels)"
      ],
      "execution_count": 90,
      "outputs": [
        {
          "output_type": "stream",
          "name": "stdout",
          "text": [
            "157/157 [==============================] - 1s 8ms/step - loss: 7.7743e-05 - accuracy: 1.0000\n"
          ]
        },
        {
          "output_type": "execute_result",
          "data": {
            "text/plain": [
              "<keras.callbacks.History at 0x7fed68f2da50>"
            ]
          },
          "metadata": {},
          "execution_count": 90
        }
      ]
    }
  ]
}
